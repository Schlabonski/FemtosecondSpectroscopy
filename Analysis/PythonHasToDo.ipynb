{
 "cells": [
  {
   "cell_type": "code",
   "execution_count": 2,
   "metadata": {
    "collapsed": true
   },
   "outputs": [],
   "source": [
    "import numpy as np\n",
    "import seaborn as sns\n",
    "import matplotlib.pyplot as plt\n",
    "import scipy.constants as cst\n",
    "\n",
    "%matplotlib inline"
   ]
  },
  {
   "cell_type": "markdown",
   "metadata": {},
   "source": [
    "# Rubidium\n",
    "## Single photon transitions"
   ]
  },
  {
   "cell_type": "code",
   "execution_count": 50,
   "metadata": {
    "collapsed": true
   },
   "outputs": [],
   "source": [
    "def f_to_lam(f):\n",
    "    return cst.c/f"
   ]
  },
  {
   "cell_type": "code",
   "execution_count": 51,
   "metadata": {
    "collapsed": false
   },
   "outputs": [],
   "source": [
    "# loading data from files\n",
    "full_data_array = np.loadtxt(\"../Data/2016-01-29_776nm_8213A_g1.dat\", skiprows=1)\n",
    "\n",
    "time = full_data_array[:, 1]\n",
    "t_delay = full_data_array[:,2]*1e-15\n",
    "analog1 = full_data_array[:,3]\n",
    "analog3 = full_data_array[:,4]\n",
    "analog5 = full_data_array[:,5]\n",
    "analog7 = full_data_array[:,6]\n",
    "\n",
    "monochromator_frequency = cst.c /(774.45e-9)"
   ]
  },
  {
   "cell_type": "code",
   "execution_count": 52,
   "metadata": {
    "collapsed": false
   },
   "outputs": [],
   "source": [
    "full_signal = analog1 + 1j*analog3\n",
    "\n",
    "#plt.plot(time, analog1)\n",
    "#plt.plot(time,analog3)"
   ]
  },
  {
   "cell_type": "code",
   "execution_count": 53,
   "metadata": {
    "collapsed": false
   },
   "outputs": [
    {
     "name": "stdout",
     "output_type": "stream",
     "text": [
      "5.00068173333e-14\n"
     ]
    },
    {
     "data": {
      "text/plain": [
       "[<matplotlib.lines.Line2D at 0x7f7d10b16b70>]"
      ]
     },
     "execution_count": 53,
     "metadata": {},
     "output_type": "execute_result"
    },
    {
     "data": {
      "image/png": "[encoded data removed]",
      "text/plain": [
       "<matplotlib.figure.Figure at 0x7f7d10c50be0>"
      ]
     },
     "metadata": {},
     "output_type": "display_data"
    }
   ],
   "source": [
    "full_signal = analog1 + 1j*analog3\n",
    "\n",
    "# to get the frequencies, we need to use fftfreq\n",
    "delta_t = np.mean(np.diff(t_delay))\n",
    "print(delta_t)\n",
    "frequencies = np.fft.fftfreq(len(full_signal), delta_t)  #+ monochromator_frequency\n",
    "frequencies = np.fft.fftshift(frequencies)\n",
    "\n",
    "# fourier trafo and shifting data to correct sides\n",
    "ft_full_signal = np.fft.fft(full_signal)\n",
    "ft_full_signal = np.fft.fftshift(ft_full_signal)\n",
    "\n",
    "wavelengths = f_to_lam(frequencies)\n",
    "plt.plot(wavelengths, abs(ft_full_signal))"
   ]
  },
  {
   "cell_type": "markdown",
   "metadata": {},
   "source": [
    "## Two photon transitions"
   ]
  },
  {
   "cell_type": "code",
   "execution_count": 45,
   "metadata": {
    "collapsed": false
   },
   "outputs": [
    {
     "name": "stdout",
     "output_type": "stream",
     "text": [
      "5.00068173333e-14\n"
     ]
    },
    {
     "data": {
      "text/plain": [
       "[<matplotlib.lines.Line2D at 0x7f7d10c26780>]"
      ]
     },
     "execution_count": 45,
     "metadata": {},
     "output_type": "execute_result"
    },
    {
     "data": {
      "image/png": "[encoded data removed]",
      "text/plain": [
       "<matplotlib.figure.Figure at 0x7f7d10c63710>"
      ]
     },
     "metadata": {},
     "output_type": "display_data"
    }
   ],
   "source": [
    "full_signal = analog5 + 1j*analog7\n",
    "\n",
    "# to get the frequencies, we need to use fftfreq\n",
    "delta_t = np.mean(np.diff(t_delay))\n",
    "print(delta_t)\n",
    "frequencies = np.fft.fftfreq(len(full_signal), delta_t)  #+ monochromator_frequency\n",
    "frequencies = np.fft.fftshift(frequencies)\n",
    "\n",
    "# fourier trafo and shifting data to correct sides\n",
    "ft_full_signal = np.fft.fft(full_signal)\n",
    "ft_full_signal = np.fft.fftshift(ft_full_signal)\n",
    "\n",
    "plt.plot(frequencies, abs(ft_full_signal))\n",
    "#plt.plot(analog5)\n",
    "#plt.plot(analog7)"
   ]
  },
  {
   "cell_type": "code",
   "execution_count": null,
   "metadata": {
    "collapsed": true
   },
   "outputs": [],
   "source": []
  },
  {
   "cell_type": "code",
   "execution_count": null,
   "metadata": {
    "collapsed": true
   },
   "outputs": [],
   "source": []
  }
 ],
 "metadata": {
  "kernelspec": {
   "display_name": "Python 3",
   "language": "python",
   "name": "python3"
  },
  "language_info": {
   "codemirror_mode": {
    "name": "ipython",
    "version": 3
   },
   "file_extension": ".py",
   "mimetype": "text/x-python",
   "name": "python",
   "nbconvert_exporter": "python",
   "pygments_lexer": "ipython3",
   "version": "3.4.3+"
  }
 },
 "nbformat": 4,
 "nbformat_minor": 0
}
