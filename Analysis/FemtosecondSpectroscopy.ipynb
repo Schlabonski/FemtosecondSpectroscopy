{
 "cells": [
  {
   "cell_type": "code",
   "execution_count": 1,
   "metadata": {
    "collapsed": false
   },
   "outputs": [
    {
     "name": "stderr",
     "output_type": "stream",
     "text": [
      "Warning: error initializing module PyPlot:\n",
      "ErrorException(\"Failed to pyimport(\"matplotlib\"): PyPlot will not work until you have a functioning matplotlib module.\n",
      "\n",
      "For automated Matplotlib installation, try configuring PyCall to use the Conda Python distribution within Julia.  Relaunch Julia and run:\n",
      "      ENV[\"PYTHON\"]=\"\"\n",
      "      Pkg.build(\"PyCall\")\n",
      "      using PyPlot\n",
      "\n",
      "pyimport exception was: PyError (:PyImport_ImportModule) <type 'exceptions.ImportError'>\n",
      "ImportError('No module named matplotlib',)\n",
      "\")\n"
     ]
    },
    {
     "ename": "LoadError",
     "evalue": "PyError (:PyImport_ImportModule) <type 'exceptions.ImportError'>\nImportError('No module named seaborn',)\n\nwhile loading In[1], in expression starting on line 341",
     "output_type": "error",
     "traceback": [
      "PyError (:PyImport_ImportModule) <type 'exceptions.ImportError'>\nImportError('No module named seaborn',)\n\nwhile loading In[1], in expression starting on line 341",
      "",
      " in pyerr_check at /home/thiele/.julia/v0.3/PyCall/src/exception.jl:61",
      " in pyimport at /home/thiele/.julia/v0.3/PyCall/src/PyCall.jl:82"
     ]
    }
   ],
   "source": [
    "using PyCall, PyPlot, DSP\n",
    "@pyimport seaborn as sns\n",
    "@pyimport sys\n",
    "@pyimport os\n",
    "\n",
    "rc_params = Dict(\"lines.linewidth\"=>1.5, \"text.usetex\"=>true)\n",
    "sns.set(style=\"ticks\", font=\"serif\", palette=\"Set1\", context=\"paper\", font_scale=1.5, rc=rc_params)"
   ]
  },
  {
   "cell_type": "markdown",
   "metadata": {},
   "source": [
    "# Rubidium\n",
    "## Single photon transitions"
   ]
  },
  {
   "cell_type": "code",
   "execution_count": 2,
   "metadata": {
    "collapsed": false
   },
   "outputs": [
    {
     "name": "stdout",
     "output_type": "stream",
     "text": [
      "Iteration\tTime\tAnalog 0\tAnalog 1\tAnalog 2\tAnalog 3\tAnalog 4\tAnalog 5\tAnalog 6\tAnalog 7\r\n"
     ]
    },
    {
     "data": {
      "text/plain": [
       "601-element Array{Float64,1}:\n",
       "  3.9092\n",
       " -3.4473\n",
       " -1.6116\n",
       "  4.9506\n",
       " -2.772 \n",
       " -6.5708\n",
       "  2.981 \n",
       "  5.4641\n",
       " -4.0076\n",
       " -2.2076\n",
       "  3.8227\n",
       " -2.1214\n",
       " -3.4096\n",
       "  ⋮     \n",
       "  3.7197\n",
       " -3.1978\n",
       "  1.0533\n",
       "  2.4642\n",
       " -6.2038\n",
       " -2.4081\n",
       "  7.583 \n",
       "  1.5655\n",
       " -6.1931\n",
       "  0.5675\n",
       "  3.45  \n",
       " -3.3459"
      ]
     },
     "execution_count": 2,
     "metadata": {},
     "output_type": "execute_result"
    }
   ],
   "source": [
    "# loading data from files\n",
    "f = open(\"../Data/2016-01-29_776nm_8213A_g1.dat\")\n",
    "\n",
    "for line in eachline(f)\n",
    "    print(line)\n",
    "    break\n",
    "end\n",
    "\n",
    "full_data_array = readdlm(\"../Data/2016-01-29_776nm_8213A_g1.dat\", skipstart=1)\n",
    "\n",
    "time = full_data_array[:, 2]\n",
    "distance = full_data_array[:,3]\n",
    "analog1 = full_data_array[:,4]\n",
    "analog3 = full_data_array[:,6]"
   ]
  },
  {
   "cell_type": "code",
   "execution_count": null,
   "metadata": {
    "collapsed": false
   },
   "outputs": [],
   "source": [
    "for signal in Any[distance, analog1, analog3]\n",
    "    fig = figure()\n",
    "    axe = fig[:add_subplot](1,1,1)\n",
    "    axe[:plot](time, signal)\n",
    "end"
   ]
  },
  {
   "cell_type": "code",
   "execution_count": null,
   "metadata": {
    "collapsed": false
   },
   "outputs": [],
   "source": [
    "full_signal = analog1 + im*analog3"
   ]
  },
  {
   "cell_type": "code",
   "execution_count": null,
   "metadata": {
    "collapsed": false
   },
   "outputs": [],
   "source": [
    "delta_t = mean(diff(time))\n",
    "frequencies = fftfreq(length(full_signal), 1/delta_t)\n",
    "wavelengths = 299792458 / frequencies + 774.45e-9 # speedoflight/f + monochromator\n",
    "ft_full_signal = fft(full_signal)\n",
    "plot(wavelengths, abs(ft_full_signal))"
   ]
  },
  {
   "cell_type": "markdown",
   "metadata": {
    "collapsed": true
   },
   "source": [
    "# Two photon transition"
   ]
  },
  {
   "cell_type": "code",
   "execution_count": null,
   "metadata": {
    "collapsed": false
   },
   "outputs": [],
   "source": [
    "# import data\n",
    "\n",
    "# loading data from files\n",
    "f = open(\"../Data/2016-01-29_822nm_8690A_g1.dat\")\n",
    "\n",
    "for line in eachline(f)\n",
    "    print(line)\n",
    "    break\n",
    "end\n",
    "\n",
    "full_data_array = readdlm(\"../Data/2016-01-29_822nm_8690A_g1.dat\", skipstart=1)\n",
    "\n",
    "time = full_data_array[:, 2]\n",
    "distance = full_data_array[:,3]\n",
    "analog1 = full_data_array[:,4]\n",
    "analog3 = full_data_array[:,6]"
   ]
  }
 ],
 "metadata": {
  "kernelspec": {
   "display_name": "Julia 0.3.11",
   "language": "julia",
   "name": "julia-0.3"
  },
  "language_info": {
   "file_extension": ".jl",
   "mimetype": "application/julia",
   "name": "julia",
   "version": "0.3.11"
  }
 },
 "nbformat": 4,
 "nbformat_minor": 0
}
